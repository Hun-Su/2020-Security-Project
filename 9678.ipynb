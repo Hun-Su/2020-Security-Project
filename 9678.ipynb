{
  "nbformat": 4,
  "nbformat_minor": 0,
  "metadata": {
    "colab": {
      "name": "9678.ipynb",
      "provenance": [],
      "collapsed_sections": []
    },
    "kernelspec": {
      "display_name": "Python 3",
      "language": "python",
      "name": "python3"
    },
    "language_info": {
      "codemirror_mode": {
        "name": "ipython",
        "version": 3
      },
      "file_extension": ".py",
      "mimetype": "text/x-python",
      "name": "python",
      "nbconvert_exporter": "python",
      "pygments_lexer": "ipython3",
      "version": "3.7.4"
    },
    "pycharm": {
      "stem_cell": {
        "cell_type": "raw",
        "metadata": {
          "collapsed": false
        },
        "source": []
      }
    }
  },
  "cells": [
    {
      "cell_type": "markdown",
      "metadata": {
        "id": "1btvFYp_ZQPn"
      },
      "source": [
        "**9678조**\n",
        "\n",
        "조원: 이헌수(20163147), 함석민(20163174), 오예린(20171650)\n",
        "\n",
        "**목적:** 주어진 파일이 악성 파일인지 정상 파일인지 판별하는 이진 분류 모델\n",
        "\n",
        "**내용**\n",
        "1. 주어진 json파일들의 특징 추출\n",
        "  - 주어진 Peminer, Ember 데이터를 일정한 길이의 벡터 형태로 추출\n",
        "2. 학습\n",
        " - 주어진 검증데이터로 학습 진행\n",
        "3. 결과\n",
        " - json 파일들에 대한 악성 여부 판단 후 predict.csv파일 생성"
      ]
    },
    {
      "cell_type": "markdown",
      "metadata": {
        "id": "SJr63SucYFjm"
      },
      "source": [
        "**필요한 라이브러리 IMPORT**"
      ]
    },
    {
      "cell_type": "code",
      "metadata": {
        "id": "SZK_8_HcniQJ"
      },
      "source": [
        "import os\n",
        "import glob\n",
        "import json\n",
        "import pprint\n",
        "\n",
        "import numpy as np\n",
        "\n",
        "from lightgbm import LGBMClassifier\n",
        "\n",
        "from sklearn.svm import SVC\n",
        "from sklearn.tree import DecisionTreeClassifier\n",
        "from sklearn.ensemble import RandomForestClassifier\n",
        "from sklearn.ensemble import AdaBoostClassifier\n",
        "from sklearn.neighbors import KNeighborsClassifier\n",
        "from sklearn.linear_model import LogisticRegression\n",
        "from sklearn.neural_network import MLPClassifier\n",
        "\n",
        "from sklearn.metrics import accuracy_score\n",
        "from sklearn.pipeline import Pipeline\n",
        "from sklearn.feature_selection import RFE"
      ],
      "execution_count": null,
      "outputs": []
    },
    {
      "cell_type": "markdown",
      "metadata": {
        "id": "DUF-6OOcYWFZ"
      },
      "source": [
        " **필요한 함수들 정의**"
      ]
    },
    {
      "cell_type": "code",
      "metadata": {
        "id": "CXWnJT56niQT"
      },
      "source": [
        "SEED = 41\n",
        "\n",
        "def read_label_csv(path):\n",
        "    label_table = dict()\n",
        "    with open(path, \"r\", encoding='cp949') as f:\n",
        "        for line in f.readlines()[1:]:\n",
        "            fname, label = line.strip().split(\",\")\n",
        "            label_table[fname] = int(label)\n",
        "    return label_table\n",
        "\n",
        "def read_json(path):\n",
        "    with open(path, \"r\") as f:\n",
        "        return json.load(f)\n",
        "\n",
        "def load_model(**kwargs):\n",
        "    if kwargs[\"model\"] == \"rf\":\n",
        "        return RandomForestClassifier(random_state=kwargs[\"random_state\"], n_jobs=4)\n",
        "    elif kwargs[\"model\"] == \"dt\":\n",
        "        return DecisionTreeClassifier(random_state=kwargs[\"random_state\"])\n",
        "    elif kwargs[\"model\"] == \"lgb\":\n",
        "        return LGBMClassifier(random_state=kwargs[\"random_state\"])\n",
        "    elif kwargs[\"model\"] == \"svm\":\n",
        "        return SVC(random_state=kwargs[\"random_state\"])\n",
        "    elif kwargs[\"model\"] == \"lr\":\n",
        "        return LogisticRegression(random_state=kwargs[\"random_state\"], n_jobs=-1)\n",
        "    elif kwargs[\"model\"] == \"knn\":\n",
        "        return KNeighborsClassifier(n_jobs=-1)\n",
        "    elif kwargs[\"model\"] == \"adaboost\":\n",
        "        return AdaBoostClassifier(random_state=kwargs[\"random_state\"])\n",
        "    elif kwargs[\"model\"] == \"mlp\":\n",
        "        return MLPClassifier(random_state=kwargs[\"random_state\"])\n",
        "    else:\n",
        "        print(\"Unsupported Algorithm\")\n",
        "        return None\n",
        "    \n",
        "\n",
        "def train(X_train, y_train, model):\n",
        "    '''\n",
        "        머신러닝 모델을 선택하여 학습을 진행하는 함수\n",
        "\t\n",
        "        :param X_train: 학습할 2차원 리스트 특징벡터\n",
        "        :param y_train: 학습할 1차원 리스트 레이블 벡터\n",
        "        :param model: 문자열, 선택할 머신러닝 알고리즘\n",
        "        :return: 학습된 머신러닝 모델 객체\n",
        "    '''\n",
        "    clf = load_model(model=model, random_state=SEED)\n",
        "    clf.fit(X_train, y_train)\n",
        "    return clf\n",
        "\n",
        "\n",
        "def evaluate(X_test, y_test, model):\n",
        "    '''\n",
        "        학습된 머신러닝 모델로 검증 데이터를 검증하는 함수\n",
        "\t\n",
        "        :param X_test: 검증할 2차원 리스트 특징 벡터\n",
        "        :param y_test: 검증할 1차원 리스트 레이블 벡터\n",
        "        :param model: 학습된 머신러닝 모델 객체\n",
        "    '''\n",
        "    predict = model.predict(X_test)\n",
        "    print(\"정확도\", model.score(X_test, y_test))\n"
      ],
      "execution_count": null,
      "outputs": []
    },
    {
      "cell_type": "markdown",
      "metadata": {
        "id": "W5Is5snkniQb"
      },
      "source": [
        "## 레이블 테이블 로드"
      ]
    },
    {
      "cell_type": "code",
      "metadata": {
        "id": "kYHYODWzniQc"
      },
      "source": [
        "label_table = read_label_csv(\"학습데이터_정답.csv\")\n",
        "label_table_test= read_label_csv(\"검증데이터_정답.csv\")"
      ],
      "execution_count": null,
      "outputs": []
    },
    {
      "cell_type": "markdown",
      "metadata": {
        "id": "9iV37lWmniQk"
      },
      "source": [
        "## 특징 벡터 생성 예시\n",
        "- PEMINER 정보는 모두 수치형 데이터이므로 특별히 가공을 하지 않고 사용 가능\n",
        "- EMBER, PESTUDIO 정보는 가공해서 사용해야 할 특징들이 있음 (e.g. imports, exports 등의 문자열 정보를 가지는 데이터)\n",
        "- 수치형 데이터가 아닌 데이터(범주형 데이터)를 어떻게 가공할 지가 관건 >> 인코딩 (e.g. 원핫인코딩, 레이블인코딩 등)"
      ]
    },
    {
      "cell_type": "code",
      "metadata": {
        "id": "vOm-YWQuniQm"
      },
      "source": [
        "ember_path = \"EMBER/학습데이터/000c4ae5e00a1d4de991a9decf9ecbac59ed5582f5972f05b48bc1a1fe57338a.json\"\n",
        "peminer_path = \"PEMINER/학습데이터/000c4ae5e00a1d4de991a9decf9ecbac59ed5582f5972f05b48bc1a1fe57338a.json\"\n",
        "\n",
        "ember_result = read_json(ember_path)\n",
        "peminer_result = read_json(peminer_path)"
      ],
      "execution_count": null,
      "outputs": []
    },
    {
      "cell_type": "markdown",
      "metadata": {
        "id": "ywbh-phXYp2i"
      },
      "source": [
        "**특징 분석 및 벡터 생성**"
      ]
    },
    {
      "cell_type": "code",
      "metadata": {
        "id": "seDfPvsYniQ3"
      },
      "source": [
        "class PeminerParser:\n",
        "    def __init__(self, path):\n",
        "        self.report = read_json(path)\n",
        "        self.vector = []\n",
        "\n",
        "#    def get_custom_info(self):\n",
        "#      custom = self.report\n",
        "#\n",
        "#      vector = [\n",
        "#        custom[\"OptionalHeader.FileAlignment\"],\n",
        "#        custom[\"OptionalHeader.DllCharacteristics\"],\n",
        "#        custom[\"Section.text.VirtualSize\"],\n",
        "#       custom[\"OptionalHeader.SizeOfInitializedData\"],\n",
        "#       custom['OptionalHeader.AddressOfEntryPoint'],\n",
        "#       custom['OptionalHeader.SectionAlignment'],\n",
        "#       custom['OptionalHeader.CheckSum']\n",
        "#     ]\n",
        "\n",
        "#     return vector\n",
        "#여러 특징들을 사용하여 벡터를 구성하려 했으니 기본피팅보다 정확도가 낮게 나와 기본 피팅을 하였음\n",
        "\n",
        "      \n",
        "\n",
        "\n",
        "    def process_report(self):\n",
        "        \n",
        "        #self.vector = self.get_custom_info()\n",
        "        self.vector = [value for _, value in sorted(self.report.items(), key=lambda x: x[0])]\n",
        "        return self.vector\n",
        "    \n",
        "\n",
        "class EmberParser:\n",
        "    def __init__(self, path):\n",
        "        self.report = read_json(path)\n",
        "        self.vector = []\n",
        "    \n",
        "    def get_histogram_info(self):\n",
        "        histogram = np.array(self.report[\"histogram\"])\n",
        "        total = histogram.sum()\n",
        "        vector = histogram / total\n",
        "        return vector.tolist()\n",
        "    \n",
        "    def get_string_info(self):\n",
        "        strings = self.report[\"strings\"]\n",
        "\n",
        "        hist_divisor = float(strings['printables']) if strings['printables'] > 0 else 1.0\n",
        "        vector = [\n",
        "            strings['numstrings'], \n",
        "            strings['avlength'], \n",
        "            strings['printables'],\n",
        "            strings['entropy'], \n",
        "            strings['paths'], \n",
        "            strings['urls'],\n",
        "            strings['registry'], \n",
        "            strings['MZ']\n",
        "        ]\n",
        "        vector += (np.asarray(strings['printabledist']) / hist_divisor).tolist()\n",
        "        return vector\n",
        "    \n",
        "    def get_general_file_info(self):\n",
        "        general = self.report[\"general\"]\n",
        "        vector = [\n",
        "            general['size'], general['vsize'], general['has_debug'], general['exports'], general['imports'],\n",
        "            general['has_relocations'], general['has_resources'], general['has_signature'], general['has_tls'],\n",
        "            general['symbols']\n",
        "        ]\n",
        "        return vector\n",
        "\n",
        "    def get_header_info(self):\n",
        "      header = self.report[\"header\"][\"coff\"]\n",
        "      self.vector = [\n",
        "                header[\"timestamp\"], len(header[\"machine\"]), len(header[\"characteristics\"])]\n",
        "      \n",
        "      return self.vector\n",
        "\n",
        "    def get_imports_info(self):\n",
        "\n",
        "      imp = self.report[\"imports\"]\n",
        "      imp_key_list = len(imp.keys())\n",
        "\n",
        "      vector = [imp_key_list]\n",
        "      return vector\n",
        "\n",
        "    def process_report(self):\n",
        "        vector = []\n",
        "        vector += self.get_general_file_info()\n",
        "        vector += self.get_histogram_info()\n",
        "        vector += self.get_string_info()\n",
        "        vector += self.get_header_info()\n",
        "        return vector\n",
        "    \n",
        "class PestudioParser:\n",
        "    '''\n",
        "        사용할 특징을 선택하여 벡터화 할 것을 권장\n",
        "    '''\n",
        "    \n",
        "    def __init__(self, path):\n",
        "        self.report = read_json(path)\n",
        "        self.vector = []\n",
        "    \n",
        "    def process_report(self):\n",
        "        pass"
      ],
      "execution_count": null,
      "outputs": []
    },
    {
      "cell_type": "markdown",
      "metadata": {
        "id": "SV1lW9OVniQ9"
      },
      "source": [
        "## 학습데이터 구성\n",
        "- 특징 벡터 구성은 2차원이 되어야함 e.g.  [vector_1, vector_2, ..., vector_n]\n",
        "\n",
        "- 각 벡터는 1차원 리스트, 벡터 크기는 모두 같아야함"
      ]
    },
    {
      "cell_type": "code",
      "metadata": {
        "colab": {
          "base_uri": "https://localhost:8080/"
        },
        "id": "Kz22UcOAniQ_",
        "outputId": "85555ca9-be28-4173-bcc5-bd3c7bec8171"
      },
      "source": [
        "# 데이터의 특징 벡터 모음(2차원 리스트) : X\n",
        "# 데이터의 레이블 모음(1차원 리스트) : y\n",
        "\n",
        "X, y = [], []\n",
        "\n",
        "train_list = os.listdir('PEMINER/학습데이터')\n",
        "for fname in train_list:\n",
        "    feature_vector = []\n",
        "    fname = fname[:-5]\n",
        "    label = label_table[fname]\n",
        "    for data in [\"PEMINER/학습데이터\", \"EMBER/학습데이터\"]:\n",
        "        path = f\"{data}/{fname}.json\"\n",
        "        \n",
        "        if data == \"PEMINER/학습데이터\":\n",
        "            feature_vector += PeminerParser(path).process_report()\n",
        "        else:\n",
        "            feature_vector += EmberParser(path).process_report()\n",
        "        \n",
        "    X.append(feature_vector)\n",
        "    y.append(label)\n",
        "\n",
        "np.asarray(X).shape, np.asarray(y).shape\n"
      ],
      "execution_count": null,
      "outputs": [
        {
          "output_type": "execute_result",
          "data": {
            "text/plain": [
              "((20000, 561), (20000,))"
            ]
          },
          "metadata": {
            "tags": []
          },
          "execution_count": 67
        }
      ]
    },
    {
      "cell_type": "markdown",
      "metadata": {
        "id": "2rh5SYvZ_h3F"
      },
      "source": [
        "##검증데이터 구성"
      ]
    },
    {
      "cell_type": "code",
      "metadata": {
        "colab": {
          "base_uri": "https://localhost:8080/"
        },
        "id": "9ty4cygR_lqB",
        "outputId": "29bebba9-e3fe-40db-a493-520aa5610501"
      },
      "source": [
        "# 데이터의 특징 벡터 모음(2차원 리스트) : X2\n",
        "# 데이터의 레이블 모음(1차원 리스트) : y2\n",
        "\n",
        "X2, y2 = [], []\n",
        "\n",
        "test_list = os.listdir('PEMINER/검증데이터')\n",
        "for fname in test_list:\n",
        "    feature_vector = []\n",
        "    fname = fname[:-5]\n",
        "    label = label_table_test[fname]\n",
        "    for data in [\"PEMINER/검증데이터\", \"EMBER/검증데이터\"]:\n",
        "        path = f\"{data}/{fname}.json\"\n",
        "        \n",
        "        if data == \"PEMINER/검증데이터\":\n",
        "            feature_vector += PeminerParser(path).process_report()\n",
        "        else:\n",
        "            feature_vector += EmberParser(path).process_report()\n",
        "        \n",
        "    X2.append(feature_vector)\n",
        "    y2.append(label)\n",
        "\n",
        "np.asarray(X2).shape, np.asarray(y2).shape\n"
      ],
      "execution_count": null,
      "outputs": [
        {
          "output_type": "execute_result",
          "data": {
            "text/plain": [
              "((10000, 561), (10000,))"
            ]
          },
          "metadata": {
            "tags": []
          },
          "execution_count": 68
        }
      ]
    },
    {
      "cell_type": "code",
      "metadata": {
        "colab": {
          "base_uri": "https://localhost:8080/"
        },
        "id": "dUJBNy7YczXc",
        "outputId": "2c2944fe-2a3d-4dc7-e03d-d658074eb6f8"
      },
      "source": [
        "# 데이터의 특징 벡터 모음(2차원 리스트) : X2\n",
        "# 데이터의 레이블 모음(1차원 리스트) : y2\n",
        "\n",
        "X_test, y_test = [], []\n",
        "\n",
        "test_list = os.listdir('PEMINER/테스트데이터')\n",
        "for fname in test_list:\n",
        "    feature_vector = []\n",
        "    fname = fname[:-5]\n",
        "    for data in [\"PEMINER/테스트데이터\", \"EMBER/테스트데이터\"]:\n",
        "        path = f\"{data}/{fname}.json\"\n",
        "        \n",
        "        if data == \"PEMINER/테스트데이터\":\n",
        "            feature_vector += PeminerParser(path).process_report()\n",
        "        else:\n",
        "            feature_vector += EmberParser(path).process_report()\n",
        "        \n",
        "    X_test.append(feature_vector)\n",
        "\n",
        "np.asarray(X_test).shape\n"
      ],
      "execution_count": null,
      "outputs": [
        {
          "output_type": "execute_result",
          "data": {
            "text/plain": [
              "(10000, 561)"
            ]
          },
          "metadata": {
            "tags": []
          },
          "execution_count": 69
        }
      ]
    },
    {
      "cell_type": "markdown",
      "metadata": {
        "id": "D3r0UEc0niRG"
      },
      "source": [
        "## 학습 및 검증"
      ]
    },
    {
      "cell_type": "code",
      "metadata": {
        "colab": {
          "base_uri": "https://localhost:8080/"
        },
        "id": "CO8w-VoPniRH",
        "outputId": "8dd96be6-d603-4839-eb83-774f579c995a"
      },
      "source": [
        "# 학습\n",
        "models = []\n",
        "for model in [\"rf\", \"lgb\"]:\n",
        "    clf = train(X, y, model)\n",
        "    models.append(clf)\n",
        "\n",
        "# 검증\n",
        "# 실제 검증 시에는 제공한 검증데이터를 검증에 사용해야 함\n",
        "\n",
        "for model in models:\n",
        "    evaluate(X2, y2, model)"
      ],
      "execution_count": null,
      "outputs": [
        {
          "output_type": "stream",
          "text": [
            "정확도 0.9434\n",
            "정확도 0.9529\n"
          ],
          "name": "stdout"
        }
      ]
    },
    {
      "cell_type": "markdown",
      "metadata": {
        "id": "1R7LiuOgniRM"
      },
      "source": [
        "## 앙상블 예제"
      ]
    },
    {
      "cell_type": "code",
      "metadata": {
        "id": "dtWAaHC9niRN"
      },
      "source": [
        "def ensemble_result(X, y, models):\n",
        "    '''\n",
        "        학습된 모델들의 결과를 앙상블하는 함수\n",
        "\t\n",
        "        :param X: 검증할 2차원 리스트 특징 벡터\n",
        "        :param y: 검증할 1차원 리스트 레이블 벡터\n",
        "        :param models: 1개 이상의 학습된 머신러닝 모델 객체를 가지는 1차원 리스트\n",
        "    '''\n",
        "    \n",
        "    # Soft Voting\n",
        "    # https://devkor.tistory.com/entry/Soft-Voting-%EA%B3%BC-Hard-Voting\n",
        "    predicts = []\n",
        "    for i in range(len(X)):\n",
        "        probs = []\n",
        "        for model in models:\n",
        "            prob = model.predict_proba(X)[i][1]\n",
        "            probs.append(prob)\n",
        "        predict = 1 if np.mean(probs) >= 0.5 else 0\n",
        "        predicts.append(predict)\n",
        "    print(predicts)\n",
        "    print(\"정확도\", accuracy_score(y, predicts))"
      ],
      "execution_count": null,
      "outputs": []
    },
    {
      "cell_type": "code",
      "metadata": {
        "id": "zj3vmocdniRS"
      },
      "source": [
        "ensemble_result(X, y, models)"
      ],
      "execution_count": null,
      "outputs": []
    },
    {
      "cell_type": "markdown",
      "metadata": {
        "id": "M6XjeE1vY5Ls"
      },
      "source": [
        "**predict.csv 파일 생성**"
      ]
    },
    {
      "cell_type": "code",
      "metadata": {
        "id": "aMRHKtETcTp7"
      },
      "source": [
        "def predict(X_test,models):\n",
        "  for model in models:\n",
        "    predict = model.predict(X_test)\n",
        "  return predict \n",
        "\n",
        "# 테스트 데이터에 대한 예측 값\n",
        "predict = predict(X_test,models)\n",
        "\n",
        "import csv\n",
        "\n",
        "\n",
        "f = open(\"/content/drive/My Drive/predict.csv\",'w')\n",
        "answer = csv.writer(f)\n",
        "answer.writerow(['file','predict'])\n",
        "for i in range(10000):\n",
        "  answer.writerow([test_list[i][:-5],predict[i]])\n",
        "f.close()"
      ],
      "execution_count": null,
      "outputs": []
    }
  ]
}